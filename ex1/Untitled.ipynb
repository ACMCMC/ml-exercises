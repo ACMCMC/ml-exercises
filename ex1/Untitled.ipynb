{
 "cells": [
  {
   "cell_type": "code",
   "execution_count": 126,
   "metadata": {},
   "outputs": [],
   "source": [
    "data = load('ex1data2.txt');\n",
    "X = data(:, 1:2);\n",
    "y = data(:, 3);\n",
    "m = length(y);"
   ]
  },
  {
   "cell_type": "code",
   "execution_count": 127,
   "metadata": {},
   "outputs": [],
   "source": [
    "X_norm = X;\n",
    "mu = zeros(1, size(X, 2));\n",
    "sigma = zeros(1, size(X, 2));\n",
    "[X mu sigma] = featureNormalize(X);\n",
    "X = [ones(size(X,1),1),X];"
   ]
  },
  {
   "cell_type": "code",
   "execution_count": 128,
   "metadata": {},
   "outputs": [
    {
     "name": "stdout",
     "output_type": "stream",
     "text": [
      "y =\n",
      "\n",
      "   399900\n",
      "   329900\n",
      "   369000\n",
      "   232000\n",
      "   539900\n",
      "   299900\n",
      "   314900\n",
      "   198999\n",
      "   212000\n",
      "   242500\n",
      "   239999\n",
      "   347000\n",
      "   329999\n",
      "   699900\n",
      "   259900\n",
      "   449900\n",
      "   299900\n",
      "   199900\n",
      "   499998\n",
      "   599000\n",
      "   252900\n",
      "   255000\n",
      "   242900\n",
      "   259900\n",
      "   573900\n",
      "   249900\n",
      "   464500\n",
      "   469000\n",
      "   475000\n",
      "   299900\n",
      "   349900\n",
      "   169900\n",
      "   314900\n",
      "   579900\n",
      "   285900\n",
      "   249900\n",
      "   229900\n",
      "   345000\n",
      "   549000\n",
      "   287000\n",
      "   368500\n",
      "   329900\n",
      "   314000\n",
      "   299000\n",
      "   179900\n",
      "   299900\n",
      "   239500\n",
      "\n"
     ]
    }
   ],
   "source": [
    "y"
   ]
  },
  {
   "cell_type": "code",
   "execution_count": 149,
   "metadata": {},
   "outputs": [],
   "source": [
    "theta = zeros(3, 1);\n",
    "alpha = 1;"
   ]
  },
  {
   "cell_type": "code",
   "execution_count": 152,
   "metadata": {},
   "outputs": [],
   "source": [
    "for iter = 1:50\n",
    "    pred = (X*theta-y);\n",
    "    for j = 1:rows(theta)\n",
    "        theta(j) = theta(j) - alpha*sum(X(:,j)'*pred)/m;\n",
    "    end\n",
    "end"
   ]
  },
  {
   "cell_type": "code",
   "execution_count": 153,
   "metadata": {},
   "outputs": [
    {
     "name": "stdout",
     "output_type": "stream",
     "text": [
      "ans =\n",
      "\n",
      "   1\n",
      "   1\n",
      "   1\n",
      "   1\n",
      "   1\n",
      "\n",
      "theta =\n",
      "\n",
      "   340412.65957\n",
      "   110631.05028\n",
      "    -6649.47427\n",
      "\n",
      "ans =\n",
      "\n",
      "   356283.11034\n",
      "   286120.93063\n",
      "   397489.46985\n",
      "   269244.18573\n",
      "   472277.85515\n",
      "\n",
      "J =  2043280050.60283\n"
     ]
    }
   ],
   "source": [
    "X(1:5,1)\n",
    "theta\n",
    "(X*theta)(1:5,1)\n",
    "J = (1/(2*m))*((((X*theta)-y)')*((X*theta)-y))"
   ]
  },
  {
   "cell_type": "code",
   "execution_count": null,
   "metadata": {},
   "outputs": [],
   "source": []
  }
 ],
 "metadata": {
  "kernelspec": {
   "display_name": "Octave",
   "language": "octave",
   "name": "octave"
  },
  "language_info": {
   "file_extension": ".m",
   "help_links": [
    {
     "text": "GNU Octave",
     "url": "https://www.gnu.org/software/octave/support.html"
    },
    {
     "text": "Octave Kernel",
     "url": "https://github.com/Calysto/octave_kernel"
    },
    {
     "text": "MetaKernel Magics",
     "url": "https://metakernel.readthedocs.io/en/latest/source/README.html"
    }
   ],
   "mimetype": "text/x-octave",
   "name": "octave",
   "version": "5.2.0"
  }
 },
 "nbformat": 4,
 "nbformat_minor": 4
}
